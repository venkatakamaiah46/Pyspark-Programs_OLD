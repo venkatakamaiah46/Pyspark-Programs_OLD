{
 "cells": [
  {
   "cell_type": "code",
   "execution_count": 1,
   "id": "1c0b8d5d",
   "metadata": {},
   "outputs": [
    {
     "name": "stdout",
     "output_type": "stream",
     "text": [
      "255[.]100[.]50[.]0\n"
     ]
    }
   ],
   "source": [
    " address = \"255.100.50.0\"\n",
    "print(address.replace('.','[.]'))"
   ]
  },
  {
   "cell_type": "code",
   "execution_count": 2,
   "id": "a312cd15",
   "metadata": {},
   "outputs": [],
   "source": [
    "a=moves = \"UDD\"\n",
    "c=0\n",
    "for i in range(len(moves)):\n",
    "    if a[i]=='U':\n",
    "        c+=1\n",
    "    elif a[i]=='D':\n",
    "        c-=1\n",
    "if c==0:\n",
    "    print('t')"
   ]
  },
  {
   "cell_type": "code",
   "execution_count": 3,
   "id": "86758cf7",
   "metadata": {},
   "outputs": [
    {
     "name": "stdout",
     "output_type": "stream",
     "text": [
      "d\n"
     ]
    }
   ],
   "source": [
    "s = \"abcdd\"\n",
    "c=1\n",
    "f=[]\n",
    "for i in s:\n",
    "    if i not in f:\n",
    "        f.append(i)\n",
    "    else:\n",
    "        c+=1\n",
    "    if c==2:\n",
    "        print(i)"
   ]
  },
  {
   "cell_type": "code",
   "execution_count": 4,
   "id": "ef034519",
   "metadata": {},
   "outputs": [
    {
     "name": "stdout",
     "output_type": "stream",
     "text": [
      "n\n"
     ]
    }
   ],
   "source": [
    "mat  = [[1, 3, 5, 7],\n",
    "              [10, 11, 16, 20],\n",
    "              [23, 30, 34, 50]]\n",
    "c=0\n",
    "for i in mat:\n",
    "#    print(i)\n",
    "    for j in i:\n",
    "#        print(j)\n",
    "        if j==12:\n",
    "            \n",
    "            c+=1\n",
    "if c==1:\n",
    "    print('y')\n",
    "else:\n",
    "    print('n')"
   ]
  },
  {
   "cell_type": "code",
   "execution_count": 5,
   "id": "d76ff42b",
   "metadata": {},
   "outputs": [
    {
     "name": "stdout",
     "output_type": "stream",
     "text": [
      "jeep\n",
      "Rabbit\n",
      "Employee\n"
     ]
    }
   ],
   "source": [
    "a=['jeep','is', 'Rabbit', 'Employee']\n",
    "for i in a:\n",
    "    for j in i:\n",
    "        if i.count(j)>1:\n",
    "            print(i)\n",
    "            break"
   ]
  },
  {
   "cell_type": "code",
   "execution_count": 6,
   "id": "2466cd0c",
   "metadata": {},
   "outputs": [
    {
     "name": "stdout",
     "output_type": "stream",
     "text": [
      "1\n"
     ]
    }
   ],
   "source": [
    "operations = ['--X','X++','X++']\n",
    "v=0\n",
    "for i in operations:\n",
    "    if i in ('--X','X--'):\n",
    "        v-=1\n",
    "    elif i in ('X++','++X'):\n",
    "        v+=1\n",
    "print(v)"
   ]
  },
  {
   "cell_type": "code",
   "execution_count": 7,
   "id": "00ca9582",
   "metadata": {},
   "outputs": [
    {
     "name": "stdout",
     "output_type": "stream",
     "text": [
      "0\n"
     ]
    }
   ],
   "source": [
    "jewels = \"z\"\n",
    "stones = \"ZZ\" \n",
    "c=0\n",
    "for i in range(len(jewels)):\n",
    "    for j in range(len(stones)):\n",
    "        if jewels[i] == stones[j]:\n",
    "            c+=1\n",
    "print(c)\n"
   ]
  },
  {
   "cell_type": "code",
   "execution_count": 8,
   "id": "82984a7a",
   "metadata": {},
   "outputs": [
    {
     "name": "stdout",
     "output_type": "stream",
     "text": [
      "6\n"
     ]
    }
   ],
   "source": [
    "sentences = [\"alice and bob love leetcode\", \"i think so too\", \"this is great thanks very much\"]\n",
    "for i in sentences:\n",
    "    j=i.split(' ')\n",
    "print(max(len(j),0))"
   ]
  },
  {
   "cell_type": "code",
   "execution_count": 9,
   "id": "c2cba275",
   "metadata": {},
   "outputs": [
    {
     "name": "stdout",
     "output_type": "stream",
     "text": [
      "abc\n"
     ]
    }
   ],
   "source": [
    "s = \"abc\" \n",
    "indices = [0,1,2]\n",
    "c=''\n",
    "for i in indices:\n",
    "    c+=s[i]\n",
    "print(c)"
   ]
  },
  {
   "cell_type": "code",
   "execution_count": 10,
   "id": "483ec9a1",
   "metadata": {
    "scrolled": true
   },
   "outputs": [
    {
     "name": "stdout",
     "output_type": "stream",
     "text": [
      "0 1\n",
      "1 2\n",
      "2 3\n",
      "[3, 5, 7, 4]\n"
     ]
    }
   ],
   "source": [
    "nums = [1,2,3,4]#Conflict b/w index vs range and extremes ki one neibour undadu\n",
    "for i in range(len(nums)-1):\n",
    "    print(i,nums[i])\n",
    "    nums[i]+=nums[i+1]\n",
    "print(nums)    "
   ]
  },
  {
   "cell_type": "code",
   "execution_count": 11,
   "id": "2b7eae4d",
   "metadata": {},
   "outputs": [
    {
     "name": "stdout",
     "output_type": "stream",
     "text": [
      "101\t103\t107\t109\t113\t127\t131\t137\t139\t149\t151\t157\t163\t167\t173\t179\t181\t191\t193\t197\t199\t"
     ]
    }
   ],
   "source": [
    "c=0\n",
    "for i in range(100,201):\n",
    "    for j in range(2,i//2):\n",
    "        if i%j==0:\n",
    "            break\n",
    "    else:\n",
    "        print(i,end='\\t')"
   ]
  },
  {
   "cell_type": "code",
   "execution_count": 12,
   "id": "0e111299",
   "metadata": {},
   "outputs": [
    {
     "name": "stdout",
     "output_type": "stream",
     "text": [
      "[2, 5]\n"
     ]
    }
   ],
   "source": [
    "a=[1,2,2,3,5,5,5,6]\n",
    "c=[]\n",
    "for i in a:\n",
    "    if a.count(i)>1:\n",
    "        c.append(i)\n",
    "print(list(set(c)))\n",
    "        "
   ]
  },
  {
   "cell_type": "code",
   "execution_count": 13,
   "id": "9dd05760",
   "metadata": {},
   "outputs": [
    {
     "name": "stdout",
     "output_type": "stream",
     "text": [
      "40\n"
     ]
    }
   ],
   "source": [
    "nums1 = [5,3,4,2]\n",
    "nums2 = [4,2,2,5]\n",
    "nums1.sort()\n",
    "nums2.sort(reverse=True)\n",
    "s=0\n",
    "for i,j in zip(nums1,nums2):\n",
    "    s=s+j*i\n",
    "print(s)"
   ]
  },
  {
   "cell_type": "code",
   "execution_count": 14,
   "id": "61da61e4",
   "metadata": {},
   "outputs": [
    {
     "name": "stdout",
     "output_type": "stream",
     "text": [
      "[True, True, True, False, True]\n"
     ]
    }
   ],
   "source": [
    "candies = [2,3,5,1,3]\n",
    "extraCandies = 3\n",
    "l=[]\n",
    "for i in range(len(candies)):\n",
    "    if candies[i]+extraCandies >=max(candies):\n",
    "        l.append(True)\n",
    "    else:\n",
    "        l.append(False)\n",
    "print(l)"
   ]
  },
  {
   "cell_type": "code",
   "execution_count": 15,
   "id": "70c759e5",
   "metadata": {},
   "outputs": [
    {
     "name": "stdout",
     "output_type": "stream",
     "text": [
      "9\n"
     ]
    }
   ],
   "source": [
    "nums = [1,15,6,3]\n",
    "d=c=e=0\n",
    "\n",
    "for i in nums:\n",
    "    e+=i\n",
    "    if len(str(i))>1:\n",
    "        for j in str(i):\n",
    "            d+=int(j)\n",
    "    else:\n",
    "        c+=i\n",
    "print(abs(c+d-e))   "
   ]
  },
  {
   "cell_type": "code",
   "execution_count": 16,
   "id": "2b1010a0",
   "metadata": {},
   "outputs": [
    {
     "name": "stdout",
     "output_type": "stream",
     "text": [
      "1\n"
     ]
    }
   ],
   "source": [
    "accounts = [[1,2,3],[3,2,1]]\n",
    "c=0\n",
    "for i in accounts:\n",
    "        for j in list(i):\n",
    "            c+=(j)\n",
    "print(max(j,0))\n",
    "            "
   ]
  },
  {
   "cell_type": "code",
   "execution_count": 17,
   "id": "32c0204c",
   "metadata": {},
   "outputs": [
    {
     "name": "stdout",
     "output_type": "stream",
     "text": [
      "0 3\n",
      "0 4\n",
      "2 5\n",
      "3 4\n"
     ]
    }
   ],
   "source": [
    "nums = [1,2,3,1,1,3]\n",
    "for i in range(len(nums)):\n",
    "    for j in range(len(nums)):\n",
    "        if nums[i]==nums[j] and i<j:\n",
    "            print(i,j)"
   ]
  },
  {
   "cell_type": "code",
   "execution_count": null,
   "id": "2af74278",
   "metadata": {},
   "outputs": [],
   "source": []
  },
  {
   "cell_type": "code",
   "execution_count": 18,
   "id": "2251b6d4",
   "metadata": {},
   "outputs": [
    {
     "name": "stdout",
     "output_type": "stream",
     "text": [
      "s'teL ekat edoCteeL tsetnoc 28\n",
      "27\n",
      "s'teL ekat edoCteeL tsetnoc\n"
     ]
    }
   ],
   "source": [
    "s = \"Let's take LeetCode contest\"\n",
    "splited = s.split()\n",
    "for i in (splited):\n",
    "    j=str(''.join(reversed(''.join(i)))+' ')\n",
    "    print(j,end=''.strip())\n",
    "\n",
    "\n",
    "\n",
    "\n",
    "lst = s.split()\n",
    "st = \"\"\n",
    "for i in lst:\n",
    "    st += i[::-1] + \" \"\n",
    "print(len(st))\n",
    "e=st.strip()\n",
    "print(len(e))\n",
    "print(e)\n"
   ]
  },
  {
   "cell_type": "code",
   "execution_count": 19,
   "id": "6515c15c",
   "metadata": {},
   "outputs": [
    {
     "name": "stdout",
     "output_type": "stream",
     "text": [
      "1\n"
     ]
    }
   ],
   "source": [
    "s=\"LLLLRRRR\"\n",
    "l=r=''\n",
    "c=0\n",
    "for i in s:\n",
    "    if i=='R':\n",
    "        r+=i\n",
    "    else:\n",
    "        l+=i\n",
    "    if len(r)==len(l):\n",
    "        c+=1\n",
    "print(c)"
   ]
  },
  {
   "cell_type": "code",
   "execution_count": 20,
   "id": "d544e700",
   "metadata": {},
   "outputs": [
    {
     "name": "stdout",
     "output_type": "stream",
     "text": [
      "2s3v4t1n\n"
     ]
    }
   ],
   "source": [
    "s='ssvvvttttn'\n",
    "output=\"\"\n",
    "for x in s:\n",
    "\tif x not in output:\n",
    "\t\toutput=output+str(s.count(x))+x\n",
    "print(output)"
   ]
  },
  {
   "cell_type": "code",
   "execution_count": 21,
   "id": "141cfd6b",
   "metadata": {},
   "outputs": [
    {
     "name": "stdout",
     "output_type": "stream",
     "text": [
      "3\n"
     ]
    }
   ],
   "source": [
    "lis=[10,6,4,8,9,11,2,3]# - Second Largest Number\n",
    "for i in range(len(lis)-1):\n",
    "    if lis[i]>lis[i+1]:\n",
    "        lis[i],lis[i+1]=lis[i+1],lis[i]\n",
    "print(lis[i])\n",
    "        "
   ]
  },
  {
   "cell_type": "code",
   "execution_count": 22,
   "id": "c2add316",
   "metadata": {},
   "outputs": [
    {
     "name": "stdout",
     "output_type": "stream",
     "text": [
      "1\n"
     ]
    }
   ],
   "source": [
    "# Third Maximum Number(Not easy 4 built-in funcs)\n",
    "nums = [2,2,3,1]\n",
    "s=sorted(set(nums))\n",
    "l=len(nums)\n",
    "if l>=3:\n",
    "    for i in range(len(s)):\n",
    "        if i==(len(s)-3):\n",
    "            print(s[i])\n",
    "else:\n",
    "    print(max(nums))       "
   ]
  },
  {
   "cell_type": "code",
   "execution_count": 23,
   "id": "83340e18",
   "metadata": {},
   "outputs": [
    {
     "name": "stdout",
     "output_type": "stream",
     "text": [
      "[2, 3, 5, 4, 1, 7]\n"
     ]
    }
   ],
   "source": [
    "nums = [2,5,1,3,4,7]\n",
    "n=3\n",
    "r=nums[::3]+nums[1::3]+nums[2::3]\n",
    "print(r)"
   ]
  },
  {
   "cell_type": "code",
   "execution_count": 24,
   "id": "2b4175d5",
   "metadata": {},
   "outputs": [
    {
     "name": "stdout",
     "output_type": "stream",
     "text": [
      "108\n"
     ]
    }
   ],
   "source": [
    "nums = [2,5,111,3,4,7]   \n",
    "print( sum(nums) - sum(int(d) for num in nums for d in str(num)))"
   ]
  },
  {
   "cell_type": "code",
   "execution_count": 25,
   "id": "58ce37e6",
   "metadata": {},
   "outputs": [],
   "source": [
    "wor1 = [\"b\", \"c\"]\n",
    "wor2 = [\"a\", \"bc\"]\n",
    "word1=''.join(wor1)\n",
    "word2=''.join(wor2)\n",
    "if word2==word1:\n",
    "    print('Y')"
   ]
  },
  {
   "cell_type": "code",
   "execution_count": 26,
   "id": "dd7d0c18",
   "metadata": {},
   "outputs": [
    {
     "name": "stdout",
     "output_type": "stream",
     "text": [
      "F\n"
     ]
    }
   ],
   "source": [
    "nums = [2,3,1,2]\n",
    "c=0\n",
    "for i in range(len(nums)-1):\n",
    "#    print(nums[i])\n",
    "    if nums[i]>=nums[i+1]:\n",
    "        c+=1\n",
    "        if c==1:\n",
    "  #          print(nums[i])\n",
    "            x=str(nums).replace(str(nums[i+1]),str(nums[i]+2))\n",
    "    #        print(x)\n",
    "            nums=list(x)\n",
    "        else:\n",
    "            print('F')\n",
    "            break\n",
    "else:\n",
    "    print('T')"
   ]
  },
  {
   "cell_type": "code",
   "execution_count": 27,
   "id": "505e1570",
   "metadata": {},
   "outputs": [
    {
     "name": "stdout",
     "output_type": "stream",
     "text": [
      "[1, 3, 12, 0, 0]\n"
     ]
    }
   ],
   "source": [
    "a=[0,1,0,3,12]\n",
    "i=0\n",
    "while i<2:\n",
    "    for j in range(len(a)-1):\n",
    "        if a[j+1]>a[j]:\n",
    "            a[j+1],a[j]=a[j],a[j+1]\n",
    "    i+=1\n",
    "print(a)"
   ]
  },
  {
   "cell_type": "code",
   "execution_count": 28,
   "id": "85f969c6",
   "metadata": {},
   "outputs": [
    {
     "name": "stdout",
     "output_type": "stream",
     "text": [
      "racaecar\n"
     ]
    }
   ],
   "source": [
    "s='Race a car'.lower()\n",
    "a=''\n",
    "for i in s:\n",
    "    if i!=' ':\n",
    "        a+=i\n",
    "print(a[::-1])"
   ]
  },
  {
   "cell_type": "code",
   "execution_count": 29,
   "id": "698393f4",
   "metadata": {},
   "outputs": [
    {
     "name": "stdout",
     "output_type": "stream",
     "text": [
      "5\n"
     ]
    }
   ],
   "source": [
    "#aggregate funcs require more than one element\n",
    "a=[7,1,5,3,6,4]\n",
    "c=0\n",
    "for i in range(len(a)):\n",
    "    if a[i]==min(a):\n",
    "        for j in range(i,len(a)):\n",
    "            c=max(a[j]-min(a),c)\n",
    "print(c)\n",
    "        "
   ]
  },
  {
   "cell_type": "code",
   "execution_count": 30,
   "id": "08b017c5",
   "metadata": {},
   "outputs": [
    {
     "name": "stdout",
     "output_type": "stream",
     "text": [
      "Not polindrom despite removed 1 element\n"
     ]
    }
   ],
   "source": [
    "a='akimikad'\n",
    "l=0\n",
    "r=len(a)-1\n",
    "m=len(a)//2\n",
    "while l<m and m<r:\n",
    "    if a[l]!=a[r]:\n",
    "        if a[l+1:]==a[:r]:\n",
    "            a.replace(a[l],'')\n",
    "        else:\n",
    "            a.replace(a[r],'')\n",
    "    else:\n",
    "        print('polindrom')\n",
    "        break\n",
    "    l+=1\n",
    "    r-=1\n",
    "else:\n",
    "    print('Not polindrom despite removed 1 element')   "
   ]
  },
  {
   "cell_type": "code",
   "execution_count": 31,
   "id": "5b28717f",
   "metadata": {},
   "outputs": [
    {
     "name": "stdout",
     "output_type": "stream",
     "text": [
      "aAbB 4 or {'A', 'a', 'b', 'B'}\n"
     ]
    }
   ],
   "source": [
    "s='aAAbBBb'\n",
    "c=''\n",
    "for i in s:\n",
    "    if i not in c:\n",
    "        c+=i\n",
    "print(c,len(c),'or',set(s))"
   ]
  },
  {
   "cell_type": "code",
   "execution_count": 32,
   "id": "c93d59f8",
   "metadata": {},
   "outputs": [
    {
     "name": "stdout",
     "output_type": "stream",
     "text": [
      "[1, 2, 4]\n"
     ]
    }
   ],
   "source": [
    "digits=[1,2,3]\n",
    "c=''\n",
    "e=[]\n",
    "for i in digits:\n",
    "    c+=str(i)\n",
    "d=int(c)+1\n",
    "for i in str(d):\n",
    "    e.append(int(i))\n",
    "print(e)"
   ]
  },
  {
   "cell_type": "code",
   "execution_count": 33,
   "id": "93bca37c",
   "metadata": {},
   "outputs": [
    {
     "name": "stdout",
     "output_type": "stream",
     "text": [
      "t\n",
      "6\n"
     ]
    }
   ],
   "source": [
    "s='leetcodel'\n",
    "c={}\n",
    "d=''\n",
    "for i in s:                                 #indexes are useless in Dictionaries\n",
    "    if i in c:\n",
    "        (c[i])+=1\n",
    "    else:\n",
    "        c[i]=1\n",
    "for i in c:\n",
    "    if c[i]==1:\n",
    "        d+=i\n",
    "print(d[0])\n",
    "\n",
    "l = [1,2,3,4,4,3,2,6,1]\n",
    "for i in l:\n",
    "    if l.count(i)==1:\n",
    "        print(i)"
   ]
  },
  {
   "cell_type": "code",
   "execution_count": 34,
   "id": "147a4a4b",
   "metadata": {},
   "outputs": [
    {
     "name": "stdout",
     "output_type": "stream",
     "text": [
      "chopper is not a tanuki\n"
     ]
    }
   ],
   "source": [
    "s = \"chopper is not a tanuki\"\n",
    "print(' '.join(s.split()[:7]))"
   ]
  },
  {
   "cell_type": "code",
   "execution_count": 35,
   "id": "1f830498",
   "metadata": {},
   "outputs": [
    {
     "name": "stdout",
     "output_type": "stream",
     "text": [
      "l 1\n",
      "e 3\n",
      "e 3\n",
      "t 1\n",
      "c 1\n",
      "o 1\n",
      "d 1\n",
      "e 3\n"
     ]
    }
   ],
   "source": [
    "s='leetcode'\n",
    "for i in range(len(s)):\n",
    "    print (s[i],s.count(s[i]))"
   ]
  },
  {
   "cell_type": "code",
   "execution_count": 36,
   "id": "78bcf845",
   "metadata": {},
   "outputs": [
    {
     "name": "stdout",
     "output_type": "stream",
     "text": [
      "0\n"
     ]
    }
   ],
   "source": [
    "s = \"aeiou\"\n",
    "v = \"aeiou\"\n",
    "c=''\n",
    "for i in s:\n",
    "    if i in v:\n",
    "        s=s.replace(i,'')\n",
    "print(len(s))\n",
    "    "
   ]
  },
  {
   "cell_type": "code",
   "execution_count": 37,
   "id": "4ad278e7",
   "metadata": {},
   "outputs": [
    {
     "name": "stdout",
     "output_type": "stream",
     "text": [
      "[1, 2]\n",
      "[5, 6]\n"
     ]
    }
   ],
   "source": [
    "#Sum\n",
    "numbers=[2,7,11,5,6,3]\n",
    "\n",
    "for i in range(len(numbers)):\n",
    "    for j in range(i + 1, len(numbers)):\n",
    "                if numbers[i] + numbers[j] == 9:\n",
    "                    print( [i + 1, j + 1]) \n",
    "                    '''\n",
    "                    \n",
    "#Below Break works if they ask only one pair is enough                    \n",
    "for i in range(len(numbers)):\n",
    "    for j in range(len(numbers)-i-1):\n",
    "        if numbers[i] + numbers[j] == 9:\n",
    "            print( i + 1,'th position', j + 1,'th position')\n",
    "            break\n",
    "        break\n",
    "'''"
   ]
  },
  {
   "cell_type": "code",
   "execution_count": 38,
   "id": "dd6636e0",
   "metadata": {},
   "outputs": [
    {
     "name": "stdout",
     "output_type": "stream",
     "text": [
      "[0, 0, 5, 6, 9, 67, 87]\n"
     ]
    }
   ],
   "source": [
    "#Bubble_sort\n",
    "a=[6,67,5,87,9,0,0]\n",
    "for i in range(len(a)-1):                            #For n elements only (n-1) iterarations/passes are required\n",
    "    for j in range(len(a)-i-1):\n",
    "        if a[j]>a[j+1]:\n",
    "            a[j],a[j+1]=a[j+1],a[j]\n",
    "print(a)"
   ]
  },
  {
   "cell_type": "code",
   "execution_count": 39,
   "id": "2ee2c4b5",
   "metadata": {},
   "outputs": [
    {
     "name": "stdout",
     "output_type": "stream",
     "text": [
      "9\n"
     ]
    }
   ],
   "source": [
    "a=[1,2,4,5,5,9]\n",
    "for i in range(len(a)):\n",
    "    if a[0]>a[1]:\n",
    "        print(a[0])\n",
    "        break\n",
    "    elif a[len(a)-1]>a[len(a)-2]:\n",
    "        print(a[len(a)-1])\n",
    "        break\n",
    "for i in range(1,len(a)-1):\n",
    "    if a[i]>max(a[i-1],a[i+1],0):\n",
    "        print(a[i])\n",
    "        break"
   ]
  },
  {
   "cell_type": "code",
   "execution_count": 40,
   "id": "6ecc655c",
   "metadata": {},
   "outputs": [
    {
     "name": "stdout",
     "output_type": "stream",
     "text": [
      "T\n"
     ]
    }
   ],
   "source": [
    "nums = [1,1,1,3,3,4,3,2,4,2]\n",
    "hset = set(nums)\n",
    "if len(nums)!=len(hset) :\n",
    "    print('T')"
   ]
  }
 ],
 "metadata": {
  "kernelspec": {
   "display_name": "Python 3",
   "language": "python",
   "name": "python3"
  },
  "language_info": {
   "codemirror_mode": {
    "name": "ipython",
    "version": 3
   },
   "file_extension": ".py",
   "mimetype": "text/x-python",
   "name": "python",
   "nbconvert_exporter": "python",
   "pygments_lexer": "ipython3",
   "version": "3.8.8"
  }
 },
 "nbformat": 4,
 "nbformat_minor": 5
}
